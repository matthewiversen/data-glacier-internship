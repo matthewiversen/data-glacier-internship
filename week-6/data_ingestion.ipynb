{
 "cells": [
  {
   "cell_type": "markdown",
   "metadata": {},
   "source": [
    "### Imports"
   ]
  },
  {
   "cell_type": "code",
   "execution_count": 12,
   "metadata": {},
   "outputs": [],
   "source": [
    "import pandas as pd\n",
    "import dask.dataframe as dd\n",
    "import modin.pandas as mpd\n",
    "import ray\n",
    "import time"
   ]
  },
  {
   "cell_type": "markdown",
   "metadata": {},
   "source": [
    "### Util File"
   ]
  },
  {
   "cell_type": "code",
   "execution_count": 13,
   "metadata": {},
   "outputs": [
    {
     "name": "stdout",
     "output_type": "stream",
     "text": [
      "Overwriting testutility.py\n"
     ]
    }
   ],
   "source": [
    "%%writefile testutility.py\n",
    "import logging\n",
    "import os\n",
    "import subprocess\n",
    "import yaml\n",
    "import pandas as pd\n",
    "import datetime \n",
    "import gc\n",
    "import re\n",
    "\n",
    "# Supplied by Data Glacier\n",
    "def read_config_file(filepath):\n",
    "    with open(filepath, 'r') as stream:\n",
    "        try:\n",
    "            return yaml.safe_load(stream)\n",
    "        except yaml.YAMLError as exc:\n",
    "            logging.error(exc)\n",
    "\n",
    "\n",
    "def col_header_val(df, table_config):\n",
    "    # sort, strip leading and trailing spaces, and replace space with _\n",
    "    df_columns = sorted([col.strip().lower().replace(' ', '_') for col in df.columns])\n",
    "    yaml_columns = sorted([col.strip().lower().replace(' ', '_') for col in table_config['columns']])\n",
    "\n",
    "    if df_columns == yaml_columns:\n",
    "        return True\n",
    "    else:\n",
    "        # Find the mismatched columns\n",
    "        mismatched_columns = set(df_columns) ^ set(yaml_columns)\n",
    "        print(f\"Mismatched columns: {list(mismatched_columns)}\")\n",
    "        return False"
   ]
  },
  {
   "cell_type": "markdown",
   "metadata": {},
   "source": [
    "### YAML File"
   ]
  },
  {
   "cell_type": "code",
   "execution_count": 6,
   "metadata": {},
   "outputs": [
    {
     "name": "stdout",
     "output_type": "stream",
     "text": [
      "Overwriting file.yaml\n"
     ]
    }
   ],
   "source": [
    "%%writefile file.yaml\n",
    "file_type: csv\n",
    "dataset_name: parking_data\n",
    "file_path: data/parking_tickets_2017\n",
    "table_name: parking\n",
    "inbound_delimiter: \",\"\n",
    "outbound_delimiter: \"|\"\n",
    "skip_leading_rows: 1\n",
    "columns:\n",
    "    - Summons Number\n",
    "    - Plate ID\n",
    "    - Registration State\n",
    "    - Plate Type\n",
    "    - Issue Date\n",
    "    - Violation Code\n",
    "    - Vehicle Body Type\n",
    "    - Vehicle Make\n",
    "    - Issuing Agency\n",
    "    - Street Code1\n",
    "    - Street Code2\n",
    "    - Street Code3\n",
    "    - Vehicle Expiration Date\n",
    "    - Violation Location\n",
    "    - Violation Precinct\n",
    "    - Issuer Precinct\n",
    "    - Issuer Code\n",
    "    - Issuer Command\n",
    "    - Issuer Squad\n",
    "    - Violation Time\n",
    "    - Time First Observed\n",
    "    - Violation County\n",
    "    - Violation In Front Of Or Opposite\n",
    "    - House Number\n",
    "    - Street Name\n",
    "    - Intersecting Street\n",
    "    - Date First Observed\n",
    "    - Law Section\n",
    "    - Sub Division\n",
    "    - Violation Legal Code\n",
    "    - Days Parking In Effect\n",
    "    - From Hours In Effect\n",
    "    - To Hours In Effect\n",
    "    - Vehicle Color\n",
    "    - Unregistered Vehicle?\n",
    "    - Vehicle Year\n",
    "    - Meter Number\n",
    "    - Feet From Curb\n",
    "    - Violation Post Code\n",
    "    - Violation Description\n",
    "    - No Standing or Stopping Violation\n",
    "    - Hydrant Violation\n",
    "    - Double Parking Violation"
   ]
  },
  {
   "cell_type": "code",
   "execution_count": 7,
   "metadata": {},
   "outputs": [
    {
     "data": {
      "text/plain": [
       "{'file_type': 'csv',\n",
       " 'dataset_name': 'parking_data',\n",
       " 'file_path': 'data/parking_tickets_2017',\n",
       " 'table_name': 'parking',\n",
       " 'inbound_delimiter': ',',\n",
       " 'outbound_delimiter': '|',\n",
       " 'skip_leading_rows': 1,\n",
       " 'columns': ['Summons Number',\n",
       "  'Plate ID',\n",
       "  'Registration State',\n",
       "  'Plate Type',\n",
       "  'Issue Date',\n",
       "  'Violation Code',\n",
       "  'Vehicle Body Type',\n",
       "  'Vehicle Make',\n",
       "  'Issuing Agency',\n",
       "  'Street Code1',\n",
       "  'Street Code2',\n",
       "  'Street Code3',\n",
       "  'Vehicle Expiration Date',\n",
       "  'Violation Location',\n",
       "  'Violation Precinct',\n",
       "  'Issuer Precinct',\n",
       "  'Issuer Code',\n",
       "  'Issuer Command',\n",
       "  'Issuer Squad',\n",
       "  'Violation Time',\n",
       "  'Time First Observed',\n",
       "  'Violation County',\n",
       "  'Violation In Front Of Or Opposite',\n",
       "  'House Number',\n",
       "  'Street Name',\n",
       "  'Intersecting Street',\n",
       "  'Date First Observed',\n",
       "  'Law Section',\n",
       "  'Sub Division',\n",
       "  'Violation Legal Code',\n",
       "  'Days Parking In Effect',\n",
       "  'From Hours In Effect',\n",
       "  'To Hours In Effect',\n",
       "  'Vehicle Color',\n",
       "  'Unregistered Vehicle?',\n",
       "  'Vehicle Year',\n",
       "  'Meter Number',\n",
       "  'Feet From Curb',\n",
       "  'Violation Post Code',\n",
       "  'Violation Description',\n",
       "  'No Standing or Stopping Violation',\n",
       "  'Hydrant Violation',\n",
       "  'Double Parking Violation']}"
      ]
     },
     "execution_count": 7,
     "metadata": {},
     "output_type": "execute_result"
    }
   ],
   "source": [
    "# Read config\n",
    "import testutility as util\n",
    "\n",
    "config_data = util.read_config_file(\"file.yaml\")\n",
    "\n",
    "config_data"
   ]
  },
  {
   "cell_type": "markdown",
   "metadata": {},
   "source": [
    "### Comparing reading speed of pandas, dask, modin, and ray"
   ]
  },
  {
   "cell_type": "code",
   "execution_count": 8,
   "metadata": {},
   "outputs": [
    {
     "data": {
      "text/plain": [
       "'./data/parking_tickets_2017.csv'"
      ]
     },
     "execution_count": 8,
     "metadata": {},
     "output_type": "execute_result"
    }
   ],
   "source": [
    "# Get file path\n",
    "file_path = f\"./{config_data['file_path']}.{config_data['file_type']}\"\n",
    "file_path"
   ]
  },
  {
   "cell_type": "code",
   "execution_count": 9,
   "metadata": {},
   "outputs": [
    {
     "name": "stderr",
     "output_type": "stream",
     "text": [
      "DtypeWarning: Columns (18,38) have mixed types. Specify dtype option on import or set low_memory=False.\n"
     ]
    },
    {
     "name": "stdout",
     "output_type": "stream",
     "text": [
      "Pandas Reading Time: 50.75420165061951 seconds\n"
     ]
    }
   ],
   "source": [
    "# Using Pandas\n",
    "start_time = time.time()\n",
    "df_pandas = pd.read_csv(file_path, delimiter=config_data['inbound_delimiter'])\n",
    "pandas_time = time.time() - start_time\n",
    "\n",
    "print(f\"Pandas Reading Time: {pandas_time} seconds\")\n",
    "# Pandas Reading Time: 50.59611439704895 seconds"
   ]
  },
  {
   "cell_type": "code",
   "execution_count": null,
   "metadata": {},
   "outputs": [],
   "source": [
    "# Using Dask\n",
    "start_time = time.time()\n",
    "df_dask = dd.read_csv(\n",
    "    file_path,\n",
    "    delimiter=config_data['inbound_delimiter'],\n",
    "    dtype={\"House Number\": \"object\", \"Time First Observed\": \"object\"}\n",
    ")\n",
    "df_dask_computed = df_dask.compute()  # This forces the actual read\n",
    "dask_time = time.time() - start_time\n",
    "\n",
    "print(f\"Dask Reading Time: {dask_time} seconds\")\n",
    "# Dask Reading Time: 42.42091226577759 seconds"
   ]
  },
  {
   "cell_type": "code",
   "execution_count": null,
   "metadata": {},
   "outputs": [],
   "source": [
    "# Using Modin\n",
    "start_time = time.time()\n",
    "df_modin = mpd.read_csv(file_path, delimiter=config_data[\"inbound_delimiter\"])\n",
    "modin_time = time.time() - start_time\n",
    "\n",
    "print(f\"Modin Reading Time: {modin_time} seconds\")\n",
    "# Modin Reading Time: 38.331472635269165 seconds"
   ]
  },
  {
   "cell_type": "code",
   "execution_count": null,
   "metadata": {},
   "outputs": [],
   "source": [
    "# Using Ray\n",
    "if not ray.is_initialized():\n",
    "    ray.init(ignore_reinit_error=True)\n",
    "\n",
    "@ray.remote\n",
    "def read_csv(file_path):\n",
    "    return pd.read_csv(file_path, delimiter=config_data[\"inbound_delimiter\"])\n",
    "\n",
    "start_time = time.time()\n",
    "future = read_csv.remote(file_path)\n",
    "df = ray.get(future)\n",
    "ray_time = time.time() - start_time\n",
    "\n",
    "print(f\"Ray Reading Time: {ray_time} seconds\")\n",
    "# Ray Reading Time: 168.3240203857422 seconds"
   ]
  },
  {
   "cell_type": "code",
   "execution_count": null,
   "metadata": {},
   "outputs": [],
   "source": [
    "pd.set_option(\"display.max_columns\", None)\n",
    "df_pandas.info(max_cols=50)\n",
    "df_pandas.head()"
   ]
  },
  {
   "cell_type": "markdown",
   "metadata": {},
   "source": [
    "### Data validation"
   ]
  },
  {
   "cell_type": "code",
   "execution_count": 10,
   "metadata": {},
   "outputs": [
    {
     "name": "stdout",
     "output_type": "stream",
     "text": [
      "Columns from data/parking_tickets_2017.csv:\n",
      "Index(['Summons Number', 'Plate ID', 'Registration State', 'Plate Type',\n",
      "       'Issue Date', 'Violation Code', 'Vehicle Body Type', 'Vehicle Make',\n",
      "       'Issuing Agency', 'Street Code1', 'Street Code2', 'Street Code3',\n",
      "       'Vehicle Expiration Date', 'Violation Location', 'Violation Precinct',\n",
      "       'Issuer Precinct', 'Issuer Code', 'Issuer Command', 'Issuer Squad',\n",
      "       'Violation Time', 'Time First Observed', 'Violation County',\n",
      "       'Violation In Front Of Or Opposite', 'House Number', 'Street Name',\n",
      "       'Intersecting Street', 'Date First Observed', 'Law Section',\n",
      "       'Sub Division', 'Violation Legal Code', 'Days Parking In Effect    ',\n",
      "       'From Hours In Effect', 'To Hours In Effect', 'Vehicle Color',\n",
      "       'Unregistered Vehicle?', 'Vehicle Year', 'Meter Number',\n",
      "       'Feet From Curb', 'Violation Post Code', 'Violation Description',\n",
      "       'No Standing or Stopping Violation', 'Hydrant Violation',\n",
      "       'Double Parking Violation'],\n",
      "      dtype='object')\n",
      "Columns from file.yaml:\n",
      "['Summons Number', 'Plate ID', 'Registration State', 'Plate Type', 'Issue Date', 'Violation Code', 'Vehicle Body Type', 'Vehicle Make', 'Issuing Agency', 'Street Code1', 'Street Code2', 'Street Code3', 'Vehicle Expiration Date', 'Violation Location', 'Violation Precinct', 'Issuer Precinct', 'Issuer Code', 'Issuer Command', 'Issuer Squad', 'Violation Time', 'Time First Observed', 'Violation County', 'Violation In Front Of Or Opposite', 'House Number', 'Street Name', 'Intersecting Street', 'Date First Observed', 'Law Section', 'Sub Division', 'Violation Legal Code', 'Days Parking In Effect', 'From Hours In Effect', 'To Hours In Effect', 'Vehicle Color', 'Unregistered Vehicle?', 'Vehicle Year', 'Meter Number', 'Feet From Curb', 'Violation Post Code', 'Violation Description', 'No Standing or Stopping Violation', 'Hydrant Violation', 'Double Parking Violation']\n"
     ]
    }
   ],
   "source": [
    "print(f\"Columns from {config_data['file_path']}.{config_data['file_type']}:\")\n",
    "print(df_pandas.columns)\n",
    "\n",
    "print(\"Columns from file.yaml:\")\n",
    "print(config_data['columns'])"
   ]
  },
  {
   "cell_type": "code",
   "execution_count": 15,
   "metadata": {},
   "outputs": [
    {
     "name": "stdout",
     "output_type": "stream",
     "text": [
      "Column Validation passed!\n"
     ]
    }
   ],
   "source": [
    "if util.col_header_val(df_pandas, config_data) == True:\n",
    "    print(\"Column Validation passed!\")\n",
    "else:\n",
    "    print(\"Column Validation failed!\")"
   ]
  },
  {
   "cell_type": "code",
   "execution_count": null,
   "metadata": {},
   "outputs": [],
   "source": []
  },
  {
   "cell_type": "markdown",
   "metadata": {},
   "source": [
    "### Output CSV with | Delimiter"
   ]
  },
  {
   "cell_type": "code",
   "execution_count": null,
   "metadata": {},
   "outputs": [],
   "source": [
    "pandas_df.to_csv()"
   ]
  }
 ],
 "metadata": {
  "kernelspec": {
   "display_name": "myvenv",
   "language": "python",
   "name": "python3"
  },
  "language_info": {
   "codemirror_mode": {
    "name": "ipython",
    "version": 3
   },
   "file_extension": ".py",
   "mimetype": "text/x-python",
   "name": "python",
   "nbconvert_exporter": "python",
   "pygments_lexer": "ipython3",
   "version": "3.10.7"
  }
 },
 "nbformat": 4,
 "nbformat_minor": 2
}
