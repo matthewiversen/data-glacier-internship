{
 "cells": [
  {
   "cell_type": "code",
   "execution_count": 10,
   "metadata": {},
   "outputs": [],
   "source": [
    "# util file"
   ]
  },
  {
   "cell_type": "code",
   "execution_count": 11,
   "metadata": {},
   "outputs": [],
   "source": [
    "# yaml file"
   ]
  },
  {
   "cell_type": "code",
   "execution_count": 12,
   "metadata": {},
   "outputs": [],
   "source": [
    "# Perform basic validation on data columns : \n",
    "# eg: remove special character , white spaces from the col name"
   ]
  },
  {
   "cell_type": "code",
   "execution_count": 14,
   "metadata": {},
   "outputs": [],
   "source": [
    "import pandas as pd\n",
    "import dask.dataframe as dd\n",
    "import modin.pandas as mpd\n",
    "import ray\n",
    "import time\n",
    "\n",
    "# File path\n",
    "file_path = \"data/parking_tickets_2017.csv\"\n",
    "\n",
    "# Using Pandas\n",
    "start_time = time.time()\n",
    "df_pandas = pd.read_csv(file_path)\n",
    "pandas_time = time.time() - start_time\n",
    "\n",
    "# Using Dask\n",
    "start_time = time.time()\n",
    "df_dask = dd.read_csv(file_path, dtype={'House Number': 'object', 'Time First Observed': 'object'})\n",
    "df_dask_computed = df_dask.compute()  # This forces the actual read\n",
    "dask_time = time.time() - start_time\n",
    "\n",
    "# Using Modin\n",
    "start_time = time.time()\n",
    "df_modin = mpd.read_csv(file_path)\n",
    "modin_time = time.time() - start_time\n",
    "\n",
    "# Using Ray\n",
    "if not ray.is_initialized():\n",
    "    ray.init(ignore_reinit_error=True)\n",
    "@ray.remote\n",
    "def read_csv(file_path):\n",
    "    return pd.read_csv(file_path)\n",
    "\n",
    "start_time = time.time()\n",
    "future = read_csv.remote(file_path)\n",
    "df = ray.get(future)\n",
    "ray_time = time.time() - start_time\n",
    "\n",
    "# Print the reading times\n",
    "print(f\"Pandas Reading Time: {pandas_time} seconds\")\n",
    "print(f\"Dask Reading Time: {dask_time} seconds\")\n",
    "print(f\"Modin Reading Time: {modin_time} seconds\")\n",
    "print(f\"Ray Reading Time: {ray_time} seconds\")\n",
    "\n",
    "# Pandas Reading Time: 455.1478934288025 seconds\n",
    "# Dask Reading Time: 108.55801367759705 seconds\n",
    "# Modin Reading Time: 478.030531167984 seconds\n",
    "# Ray Reading Time: 707.9684960842133 seconds"
   ]
  },
  {
   "cell_type": "code",
   "execution_count": null,
   "metadata": {},
   "outputs": [],
   "source": []
  },
  {
   "cell_type": "code",
   "execution_count": null,
   "metadata": {},
   "outputs": [],
   "source": []
  },
  {
   "cell_type": "code",
   "execution_count": null,
   "metadata": {},
   "outputs": [],
   "source": []
  }
 ],
 "metadata": {
  "kernelspec": {
   "display_name": "myvenv",
   "language": "python",
   "name": "python3"
  },
  "language_info": {
   "codemirror_mode": {
    "name": "ipython",
    "version": 3
   },
   "file_extension": ".py",
   "mimetype": "text/x-python",
   "name": "python",
   "nbconvert_exporter": "python",
   "pygments_lexer": "ipython3",
   "version": "3.10.7"
  }
 },
 "nbformat": 4,
 "nbformat_minor": 2
}
