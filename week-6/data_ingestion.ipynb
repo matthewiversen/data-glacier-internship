{
 "cells": [
  {
   "cell_type": "markdown",
   "metadata": {},
   "source": [
    "### Imports"
   ]
  },
  {
   "cell_type": "code",
   "execution_count": 18,
   "metadata": {},
   "outputs": [],
   "source": [
    "import pandas as pd\n",
    "import dask.dataframe as dd\n",
    "import modin.pandas as mpd\n",
    "import ray\n",
    "import time\n",
    "import yaml\n",
    "import testutility as util"
   ]
  },
  {
   "cell_type": "markdown",
   "metadata": {},
   "source": [
    "### Util File"
   ]
  },
  {
   "cell_type": "code",
   "execution_count": 10,
   "metadata": {},
   "outputs": [],
   "source": [
    "# util file"
   ]
  },
  {
   "cell_type": "markdown",
   "metadata": {},
   "source": [
    "### YAML File"
   ]
  },
  {
   "cell_type": "code",
   "execution_count": 28,
   "metadata": {},
   "outputs": [
    {
     "name": "stdout",
     "output_type": "stream",
     "text": [
      "Overwriting file.yaml\n"
     ]
    }
   ],
   "source": [
    "%%writefile file.yaml\n",
    "file_type: csv\n",
    "dataset_name: parking_data\n",
    "file_path: data/parking_tickets_2017\n",
    "table_name: parking\n",
    "inbound_delimiter: \",\"\n",
    "outbound_delimiter: \"|\"\n",
    "skip_leading_rows: 1\n",
    "columns: \n",
    "    - city\n",
    "    - price\n",
    "    - distance"
   ]
  },
  {
   "cell_type": "code",
   "execution_count": 29,
   "metadata": {},
   "outputs": [
    {
     "data": {
      "text/plain": [
       "{'file_type': 'csv',\n",
       " 'dataset_name': 'parking_data',\n",
       " 'file_path': 'data/parking_tickets_2017',\n",
       " 'table_name': 'parking',\n",
       " 'inbound_delimiter': ',',\n",
       " 'outbound_delimiter': '|',\n",
       " 'skip_leading_rows': 1,\n",
       " 'columns': ['city', 'price', 'distance']}"
      ]
     },
     "execution_count": 29,
     "metadata": {},
     "output_type": "execute_result"
    }
   ],
   "source": [
    "# Read config\n",
    "config_data = util.read_config_file(\"file.yaml\")\n",
    "config_data"
   ]
  },
  {
   "cell_type": "markdown",
   "metadata": {},
   "source": [
    "### Comparing reading speed of pandas, dask, modin, and ray"
   ]
  },
  {
   "cell_type": "code",
   "execution_count": 31,
   "metadata": {},
   "outputs": [
    {
     "data": {
      "text/plain": [
       "'./data/parking_tickets_2017.csv'"
      ]
     },
     "execution_count": 31,
     "metadata": {},
     "output_type": "execute_result"
    }
   ],
   "source": [
    "# Get file path\n",
    "file_path = f\"./{config_data['file_path']}.{config_data['file_type']}\"\n",
    "file_path"
   ]
  },
  {
   "cell_type": "code",
   "execution_count": 34,
   "metadata": {},
   "outputs": [
    {
     "name": "stderr",
     "output_type": "stream",
     "text": [
      "DtypeWarning: Columns (18,38) have mixed types. Specify dtype option on import or set low_memory=False.\n"
     ]
    },
    {
     "name": "stdout",
     "output_type": "stream",
     "text": [
      "Pandas Reading Time: 61.86948895454407 seconds\n"
     ]
    }
   ],
   "source": [
    "# Using Pandas\n",
    "start_time = time.time()\n",
    "df_pandas = pd.read_csv(file_path)\n",
    "pandas_time = time.time() - start_time\n",
    "\n",
    "print(f\"Pandas Reading Time: {pandas_time} seconds\")\n",
    "# Pandas Reading Time: 61.86948895454407 seconds"
   ]
  },
  {
   "cell_type": "code",
   "execution_count": 38,
   "metadata": {},
   "outputs": [
    {
     "name": "stderr",
     "output_type": "stream",
     "text": [
      "DtypeWarning: Columns (18,38) have mixed types. Specify dtype option on import or set low_memory=False.\n"
     ]
    },
    {
     "name": "stdout",
     "output_type": "stream",
     "text": [
      "Dask Reading Time: 53.03518986701965 seconds\n"
     ]
    }
   ],
   "source": [
    "# Using Dask\n",
    "start_time = time.time()\n",
    "df_dask = dd.read_csv(\n",
    "    file_path,\n",
    "    dtype={\"House Number\": \"object\", \"Time First Observed\": \"object\"}\n",
    ")\n",
    "df_dask_computed = df_dask.compute()  # This forces the actual read\n",
    "dask_time = time.time() - start_time\n",
    "\n",
    "print(f\"Dask Reading Time: {dask_time} seconds\")\n",
    "# Dask Reading Time: 53.906822681427 seconds"
   ]
  },
  {
   "cell_type": "code",
   "execution_count": 40,
   "metadata": {},
   "outputs": [
    {
     "name": "stdout",
     "output_type": "stream",
     "text": [
      "Modin Reading Time: 74.55038928985596 seconds\n"
     ]
    }
   ],
   "source": [
    "# Using Modin\n",
    "start_time = time.time()\n",
    "df_modin = mpd.read_csv(file_path)\n",
    "modin_time = time.time() - start_time\n",
    "\n",
    "print(f\"Modin Reading Time: {modin_time} seconds\")\n",
    "# Modin Reading Time: 74.55038928985596 seconds"
   ]
  },
  {
   "cell_type": "code",
   "execution_count": 42,
   "metadata": {},
   "outputs": [
    {
     "name": "stdout",
     "output_type": "stream",
     "text": [
      "Ray Reading Time: 411.440633058548 seconds\n"
     ]
    }
   ],
   "source": [
    "# Using Ray\n",
    "if not ray.is_initialized():\n",
    "    ray.init(ignore_reinit_error=True)\n",
    "\n",
    "\n",
    "@ray.remote\n",
    "def read_csv(file_path):\n",
    "    return pd.read_csv(file_path)\n",
    "\n",
    "\n",
    "start_time = time.time()\n",
    "future = read_csv.remote(file_path)\n",
    "df = ray.get(future)\n",
    "ray_time = time.time() - start_time\n",
    "\n",
    "print(f\"Ray Reading Time: {ray_time} seconds\")"
   ]
  },
  {
   "cell_type": "markdown",
   "metadata": {},
   "source": [
    "### Data validation"
   ]
  },
  {
   "cell_type": "code",
   "execution_count": 12,
   "metadata": {},
   "outputs": [],
   "source": [
    "# Perform basic validation on data columns : \n",
    "# eg: remove special character , white spaces from the col name"
   ]
  },
  {
   "cell_type": "code",
   "execution_count": null,
   "metadata": {},
   "outputs": [],
   "source": []
  },
  {
   "cell_type": "code",
   "execution_count": null,
   "metadata": {},
   "outputs": [],
   "source": []
  },
  {
   "cell_type": "code",
   "execution_count": null,
   "metadata": {},
   "outputs": [],
   "source": []
  }
 ],
 "metadata": {
  "kernelspec": {
   "display_name": "myvenv",
   "language": "python",
   "name": "python3"
  },
  "language_info": {
   "codemirror_mode": {
    "name": "ipython",
    "version": 3
   },
   "file_extension": ".py",
   "mimetype": "text/x-python",
   "name": "python",
   "nbconvert_exporter": "python",
   "pygments_lexer": "ipython3",
   "version": "3.10.7"
  }
 },
 "nbformat": 4,
 "nbformat_minor": 2
}
